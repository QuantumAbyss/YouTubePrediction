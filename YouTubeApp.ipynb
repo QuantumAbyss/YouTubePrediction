{
 "cells": [
  {
   "cell_type": "code",
   "execution_count": 1,
   "id": "09c48975",
   "metadata": {},
   "outputs": [
    {
     "name": "stdout",
     "output_type": "stream",
     "text": [
      "Collecting voila\n",
      "  Downloading voila-0.2.16-py3-none-any.whl (1.6 MB)\n",
      "Requirement already satisfied: jupyter-client<7,>=6.1.3 in c:\\users\\chris\\anaconda3\\envs\\fastai\\lib\\site-packages (from voila) (6.1.12)\n",
      "Collecting nbconvert<7,>=6.0.0\n",
      "  Downloading nbconvert-6.3.0-py3-none-any.whl (556 kB)\n",
      "Requirement already satisfied: jupyter-server<2.0.0,>=0.3.0 in c:\\users\\chris\\anaconda3\\envs\\fastai\\lib\\site-packages (from voila) (1.4.1)\n",
      "Requirement already satisfied: nbclient<0.6,>=0.4.0 in c:\\users\\chris\\anaconda3\\envs\\fastai\\lib\\site-packages (from voila) (0.5.3)\n",
      "Requirement already satisfied: pyzmq>=13 in c:\\users\\chris\\anaconda3\\envs\\fastai\\lib\\site-packages (from jupyter-client<7,>=6.1.3->voila) (20.0.0)\n",
      "Requirement already satisfied: traitlets in c:\\users\\chris\\anaconda3\\envs\\fastai\\lib\\site-packages (from jupyter-client<7,>=6.1.3->voila) (5.0.5)\n",
      "Requirement already satisfied: jupyter-core>=4.6.0 in c:\\users\\chris\\anaconda3\\envs\\fastai\\lib\\site-packages (from jupyter-client<7,>=6.1.3->voila) (4.7.1)\n",
      "Requirement already satisfied: tornado>=4.1 in c:\\users\\chris\\anaconda3\\envs\\fastai\\lib\\site-packages (from jupyter-client<7,>=6.1.3->voila) (6.1)\n",
      "Requirement already satisfied: python-dateutil>=2.1 in c:\\users\\chris\\anaconda3\\envs\\fastai\\lib\\site-packages (from jupyter-client<7,>=6.1.3->voila) (2.8.1)\n",
      "Requirement already satisfied: pywin32>=1.0 in c:\\users\\chris\\anaconda3\\envs\\fastai\\lib\\site-packages (from jupyter-core>=4.6.0->jupyter-client<7,>=6.1.3->voila) (228)\n",
      "Requirement already satisfied: jinja2 in c:\\users\\chris\\anaconda3\\envs\\fastai\\lib\\site-packages (from jupyter-server<2.0.0,>=0.3.0->voila) (2.11.3)\n",
      "Requirement already satisfied: anyio>=2.0.2 in c:\\users\\chris\\anaconda3\\envs\\fastai\\lib\\site-packages (from jupyter-server<2.0.0,>=0.3.0->voila) (2.2.0)\n",
      "Requirement already satisfied: Send2Trash in c:\\users\\chris\\anaconda3\\envs\\fastai\\lib\\site-packages (from jupyter-server<2.0.0,>=0.3.0->voila) (1.5.0)\n",
      "Requirement already satisfied: terminado>=0.8.3 in c:\\users\\chris\\anaconda3\\envs\\fastai\\lib\\site-packages (from jupyter-server<2.0.0,>=0.3.0->voila) (0.9.4)\n",
      "Requirement already satisfied: ipython-genutils in c:\\users\\chris\\anaconda3\\envs\\fastai\\lib\\site-packages (from jupyter-server<2.0.0,>=0.3.0->voila) (0.2.0)\n",
      "Requirement already satisfied: nbformat in c:\\users\\chris\\anaconda3\\envs\\fastai\\lib\\site-packages (from jupyter-server<2.0.0,>=0.3.0->voila) (5.1.3)\n",
      "Requirement already satisfied: prometheus-client in c:\\users\\chris\\anaconda3\\envs\\fastai\\lib\\site-packages (from jupyter-server<2.0.0,>=0.3.0->voila) (0.10.1)\n",
      "Requirement already satisfied: sniffio>=1.1 in c:\\users\\chris\\anaconda3\\envs\\fastai\\lib\\site-packages (from anyio>=2.0.2->jupyter-server<2.0.0,>=0.3.0->voila) (1.2.0)\n",
      "Requirement already satisfied: idna>=2.8 in c:\\users\\chris\\anaconda3\\envs\\fastai\\lib\\site-packages (from anyio>=2.0.2->jupyter-server<2.0.0,>=0.3.0->voila) (2.10)\n",
      "Requirement already satisfied: nest-asyncio in c:\\users\\chris\\anaconda3\\envs\\fastai\\lib\\site-packages (from nbclient<0.6,>=0.4.0->voila) (1.5.1)\n",
      "Requirement already satisfied: async-generator in c:\\users\\chris\\anaconda3\\envs\\fastai\\lib\\site-packages (from nbclient<0.6,>=0.4.0->voila) (1.10)\n",
      "Requirement already satisfied: pygments>=2.4.1 in c:\\users\\chris\\anaconda3\\envs\\fastai\\lib\\site-packages (from nbconvert<7,>=6.0.0->voila) (2.8.1)\n",
      "Requirement already satisfied: bleach in c:\\users\\chris\\anaconda3\\envs\\fastai\\lib\\site-packages (from nbconvert<7,>=6.0.0->voila) (3.3.0)\n",
      "Requirement already satisfied: pandocfilters>=1.4.1 in c:\\users\\chris\\anaconda3\\envs\\fastai\\lib\\site-packages (from nbconvert<7,>=6.0.0->voila) (1.4.3)\n",
      "Requirement already satisfied: mistune<2,>=0.8.1 in c:\\users\\chris\\anaconda3\\envs\\fastai\\lib\\site-packages (from nbconvert<7,>=6.0.0->voila) (0.8.4)\n",
      "Requirement already satisfied: entrypoints>=0.2.2 in c:\\users\\chris\\anaconda3\\envs\\fastai\\lib\\site-packages (from nbconvert<7,>=6.0.0->voila) (0.3)\n",
      "Requirement already satisfied: defusedxml in c:\\users\\chris\\anaconda3\\envs\\fastai\\lib\\site-packages (from nbconvert<7,>=6.0.0->voila) (0.7.1)\n",
      "Requirement already satisfied: jupyterlab-pygments in c:\\users\\chris\\anaconda3\\envs\\fastai\\lib\\site-packages (from nbconvert<7,>=6.0.0->voila) (0.1.2)\n",
      "Requirement already satisfied: testpath in c:\\users\\chris\\anaconda3\\envs\\fastai\\lib\\site-packages (from nbconvert<7,>=6.0.0->voila) (0.4.4)\n",
      "Requirement already satisfied: MarkupSafe>=0.23 in c:\\users\\chris\\anaconda3\\envs\\fastai\\lib\\site-packages (from jinja2->jupyter-server<2.0.0,>=0.3.0->voila) (1.1.1)\n",
      "Requirement already satisfied: jsonschema!=2.5.0,>=2.4 in c:\\users\\chris\\anaconda3\\envs\\fastai\\lib\\site-packages (from nbformat->jupyter-server<2.0.0,>=0.3.0->voila) (3.2.0)\n",
      "Requirement already satisfied: pyrsistent>=0.14.0 in c:\\users\\chris\\anaconda3\\envs\\fastai\\lib\\site-packages (from jsonschema!=2.5.0,>=2.4->nbformat->jupyter-server<2.0.0,>=0.3.0->voila) (0.17.3)\n",
      "Requirement already satisfied: attrs>=17.4.0 in c:\\users\\chris\\anaconda3\\envs\\fastai\\lib\\site-packages (from jsonschema!=2.5.0,>=2.4->nbformat->jupyter-server<2.0.0,>=0.3.0->voila) (20.3.0)\n",
      "Requirement already satisfied: setuptools in c:\\users\\chris\\anaconda3\\envs\\fastai\\lib\\site-packages (from jsonschema!=2.5.0,>=2.4->nbformat->jupyter-server<2.0.0,>=0.3.0->voila) (52.0.0.post20210125)\n",
      "Requirement already satisfied: six>=1.11.0 in c:\\users\\chris\\anaconda3\\envs\\fastai\\lib\\site-packages (from jsonschema!=2.5.0,>=2.4->nbformat->jupyter-server<2.0.0,>=0.3.0->voila) (1.15.0)\n",
      "Requirement already satisfied: pywinpty>=0.5 in c:\\users\\chris\\anaconda3\\envs\\fastai\\lib\\site-packages (from terminado>=0.8.3->jupyter-server<2.0.0,>=0.3.0->voila) (0.5.7)\n",
      "Requirement already satisfied: webencodings in c:\\users\\chris\\anaconda3\\envs\\fastai\\lib\\site-packages (from bleach->nbconvert<7,>=6.0.0->voila) (0.5.1)\n",
      "Requirement already satisfied: packaging in c:\\users\\chris\\anaconda3\\envs\\fastai\\lib\\site-packages (from bleach->nbconvert<7,>=6.0.0->voila) (20.9)\n",
      "Requirement already satisfied: pyparsing>=2.0.2 in c:\\users\\chris\\anaconda3\\envs\\fastai\\lib\\site-packages (from packaging->bleach->nbconvert<7,>=6.0.0->voila) (2.4.7)\n",
      "Installing collected packages: nbconvert, voila\n",
      "  Attempting uninstall: nbconvert\n",
      "    Found existing installation: nbconvert 5.6.1\n",
      "    Uninstalling nbconvert-5.6.1:\n",
      "      Successfully uninstalled nbconvert-5.6.1\n",
      "Successfully installed nbconvert-6.3.0 voila-0.2.16\n"
     ]
    },
    {
     "name": "stderr",
     "output_type": "stream",
     "text": [
      "ERROR: pip's dependency resolver does not currently take into account all the packages that are installed. This behaviour is the source of the following dependency conflicts.\n",
      "spyder 4.2.5 requires pyqt5<5.13, which is not installed.\n",
      "spyder 4.2.5 requires pyqtwebengine<5.13, which is not installed.\n",
      "nbdev 1.1.22 requires nbconvert<6, but you have nbconvert 6.3.0 which is incompatible.\n",
      "Enabling: voila\n",
      "- Writing config: C:\\Users\\Chris\\anaconda3\\envs\\fastai\\etc\\jupyter\n",
      "    - Validating...\n",
      "      voila 0.2.16 ok\n"
     ]
    }
   ],
   "source": [
    "#!pip install voila\n",
    "#!jupyter serverextension enable voila --sys-prefix"
   ]
  },
  {
   "cell_type": "code",
   "execution_count": 2,
   "id": "da106a81",
   "metadata": {},
   "outputs": [],
   "source": [
    "from fastai.vision.all import *\n",
    "from fastai.vision.widgets import*"
   ]
  },
  {
   "cell_type": "markdown",
   "id": "4e39dfd0",
   "metadata": {},
   "source": [
    "## YouTube Thumbnail Click-Through Rate Predictor\n",
    "Upload an image and this model will provide an estimate of what the click-through rate will be. Higher values indicate a better thumbnail. The average click through rate and standard deviation for the thumbnails analyzed was 4.62 +/- .90%\n",
    "\n",
    "Model version: 1.0<br>\n",
    "Last Updated: November 14, 2021<br>\n",
    "Developed By: Christopher McBride https://github.com/QuantumAbyss/ <br>\n",
    "Estimated Error Rate: 0.84<br>\n",
    "Trained on: 72 thumbnails"
   ]
  },
  {
   "cell_type": "markdown",
   "id": "02e86919",
   "metadata": {},
   "source": [
    "### Notes for consideration\n",
    "- Thumbnail is one of four primary aspects that convince someone to click on a video; the other three being the title, the video length, and people's existing perception of the channel name and content. The residual error listed above likely stems from not incorporating these other feature's into the model. Additionally, people's perception of the channel is more difficult to incorporate quantitatively, especially with the limited data available.\n",
    "- Click-through rates can be heavily influenced by the YouTube algorithm, depending on who it shows the video to and who might be interested. A flaw of the YouTube algorithm is that it doesn't adequately handle YouTube channel recommendations for channels that have a variety of content. This can be mitigated by tagging each video heavily, depending on the content\n",
    "- Using this model too much risks that the model will drive you into producing repetitive thumbnails that could cause stagnation. The model is for consideration only and would need to be regularly updated to incorporate features of video clickability according to people's perception of the channel and content and how that changes over time\n",
    "- The model is trained heavily on a specific subset of thumbnails, all of which have a distinct style. The model likely won't handle thumbnails that deviate too far out of this specific style very well."
   ]
  },
  {
   "cell_type": "code",
   "execution_count": 4,
   "id": "2c4f4996",
   "metadata": {},
   "outputs": [],
   "source": [
    "def gety(file):\n",
    "    return float(re.findall(r'\\((\\d+.\\d+)\\)', file.name)[0])"
   ]
  },
  {
   "cell_type": "code",
   "execution_count": 5,
   "id": "b71d3845",
   "metadata": {},
   "outputs": [],
   "source": [
    "path = Path()\n",
    "learn_inf = load_learner(path/\"export.pkl\", cpu=True)\n",
    "btn_upload = widgets.FileUpload()\n",
    "out_pl = widgets.Output()\n",
    "lbl_pred = widgets.Label()"
   ]
  },
  {
   "cell_type": "code",
   "execution_count": 6,
   "id": "3472e17d",
   "metadata": {},
   "outputs": [],
   "source": [
    "def on_click(change):\n",
    "    img = PILImage.create(btn_upload.data[-1])\n",
    "    out_pl.clear_output()\n",
    "    with out_pl: display(img.to_thumb(128,128))\n",
    "    pred, pred_idx, probs = learn_inf.predict(img)\n",
    "    lbl_pred.value = f'Prediction: {pred}'"
   ]
  },
  {
   "cell_type": "code",
   "execution_count": 7,
   "id": "a824e06f",
   "metadata": {},
   "outputs": [],
   "source": [
    "btn_upload.observe(on_click, names=['data'])"
   ]
  },
  {
   "cell_type": "code",
   "execution_count": 8,
   "id": "1ea43a0f",
   "metadata": {},
   "outputs": [
    {
     "data": {
      "application/vnd.jupyter.widget-view+json": {
       "model_id": "313e74f4739b4a3e87a5104c6bbd91c7",
       "version_major": 2,
       "version_minor": 0
      },
      "text/plain": [
       "VBox(children=(Label(value='Upload your thumbnail:'), FileUpload(value={}, description='Upload'), Output(), La…"
      ]
     },
     "metadata": {},
     "output_type": "display_data"
    }
   ],
   "source": [
    "display(VBox([widgets.Label('Upload your thumbnail:'), btn_upload, out_pl, lbl_pred]))"
   ]
  },
  {
   "cell_type": "code",
   "execution_count": null,
   "id": "0c55c958",
   "metadata": {},
   "outputs": [],
   "source": []
  }
 ],
 "metadata": {
  "kernelspec": {
   "display_name": "Python 3",
   "language": "python",
   "name": "python3"
  },
  "language_info": {
   "codemirror_mode": {
    "name": "ipython",
    "version": 3
   },
   "file_extension": ".py",
   "mimetype": "text/x-python",
   "name": "python",
   "nbconvert_exporter": "python",
   "pygments_lexer": "ipython3",
   "version": "3.9.4"
  }
 },
 "nbformat": 4,
 "nbformat_minor": 5
}
