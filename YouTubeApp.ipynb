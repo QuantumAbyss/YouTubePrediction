{
 "cells": [
  {
   "cell_type": "code",
   "execution_count": 1,
   "id": "09c48975",
   "metadata": {},
   "outputs": [],
   "source": [
    "#!pip install voila\n",
    "#!jupyter serverextension enable voila --sys-prefix"
   ]
  },
  {
   "cell_type": "code",
   "execution_count": 1,
   "id": "da106a81",
   "metadata": {},
   "outputs": [],
   "source": [
    "from fastai.vision.all import *\n",
    "from fastai.vision.widgets import *"
   ]
  },
  {
   "cell_type": "markdown",
   "id": "4e39dfd0",
   "metadata": {},
   "source": [
    "## YouTube Thumbnail Click-Through Rate Predictor\n",
    "Upload an image and this model will provide an estimate of what the click-through rate will be. Higher values indicate a better thumbnail. The average click through rate and standard deviation for the thumbnails analyzed was 4.62 +/- .90%\n",
    "\n",
    "Model version: 1.0<br>\n",
    "Last Updated: November 14, 2021<br>\n",
    "Developed By: Christopher McBride https://github.com/QuantumAbyss/ <br>\n",
    "Estimated Error Rate: 0.84<br>\n",
    "Trained on: 72 thumbnails"
   ]
  },
  {
   "cell_type": "markdown",
   "id": "02e86919",
   "metadata": {},
   "source": [
    "### Notes for consideration\n",
    "- Thumbnail is one of four primary aspects that convince someone to click on a video; the other three being the title, the video length, and people's existing perception of the channel name and content. The residual error listed above likely stems from not incorporating these other feature's into the model. Additionally, people's perception of the channel is more difficult to incorporate quantitatively, especially with the limited data available.\n",
    "- Click-through rates can be heavily influenced by the YouTube algorithm, depending on who it shows the video to and who might be interested. A flaw of the YouTube algorithm is that it doesn't adequately handle YouTube channel recommendations for channels that have a variety of content. This can be mitigated by tagging each video heavily, depending on the content\n",
    "- Using this model too much risks that the model will drive you into producing repetitive thumbnails that could cause stagnation. The model is for consideration only and would need to be regularly updated to incorporate features of video clickability according to people's perception of the channel and content and how that changes over time\n",
    "- The model is trained heavily on a specific subset of thumbnails, all of which have a distinct style. The model likely won't handle thumbnails that deviate too far out of this specific style very well."
   ]
  },
  {
   "cell_type": "code",
   "execution_count": 5,
   "id": "430d5eff",
   "metadata": {},
   "outputs": [],
   "source": [
    "import pathlib\n",
    "temp = pathlib.WindowsPath\n",
    "pathlib.WindowsPath = pathlib.PosixPath"
   ]
  },
  {
   "cell_type": "code",
   "execution_count": 6,
   "id": "2c4f4996",
   "metadata": {},
   "outputs": [],
   "source": [
    "def gety(file):\n",
    "    return float(re.findall(r'\\((\\d+.\\d+)\\)', file.name)[0])"
   ]
  },
  {
   "cell_type": "code",
   "execution_count": 7,
   "id": "b71d3845",
   "metadata": {},
   "outputs": [
    {
     "ename": "NameError",
     "evalue": "name 'Path' is not defined",
     "output_type": "error",
     "traceback": [
      "\u001b[1;31m---------------------------------------------------------------------------\u001b[0m",
      "\u001b[1;31mNameError\u001b[0m                                 Traceback (most recent call last)",
      "\u001b[1;32m<ipython-input-7-d7981437ed8c>\u001b[0m in \u001b[0;36m<module>\u001b[1;34m\u001b[0m\n\u001b[1;32m----> 1\u001b[1;33m \u001b[0mpath\u001b[0m \u001b[1;33m=\u001b[0m \u001b[0mPath\u001b[0m\u001b[1;33m(\u001b[0m\u001b[1;33m)\u001b[0m\u001b[1;33m\u001b[0m\u001b[1;33m\u001b[0m\u001b[0m\n\u001b[0m\u001b[0;32m      2\u001b[0m \u001b[0mlearn_inf\u001b[0m \u001b[1;33m=\u001b[0m \u001b[0mload_learner\u001b[0m\u001b[1;33m(\u001b[0m\u001b[0mpath\u001b[0m\u001b[1;33m/\u001b[0m\u001b[1;34m\"export.pkl\"\u001b[0m\u001b[1;33m)\u001b[0m\u001b[1;33m\u001b[0m\u001b[1;33m\u001b[0m\u001b[0m\n\u001b[0;32m      3\u001b[0m \u001b[0mbtn_upload\u001b[0m \u001b[1;33m=\u001b[0m \u001b[0mwidgets\u001b[0m\u001b[1;33m.\u001b[0m\u001b[0mFileUpload\u001b[0m\u001b[1;33m(\u001b[0m\u001b[1;33m)\u001b[0m\u001b[1;33m\u001b[0m\u001b[1;33m\u001b[0m\u001b[0m\n\u001b[0;32m      4\u001b[0m \u001b[0mout_pl\u001b[0m \u001b[1;33m=\u001b[0m \u001b[0mwidgets\u001b[0m\u001b[1;33m.\u001b[0m\u001b[0mOutput\u001b[0m\u001b[1;33m(\u001b[0m\u001b[1;33m)\u001b[0m\u001b[1;33m\u001b[0m\u001b[1;33m\u001b[0m\u001b[0m\n\u001b[0;32m      5\u001b[0m \u001b[0mlbl_pred\u001b[0m \u001b[1;33m=\u001b[0m \u001b[0mwidgets\u001b[0m\u001b[1;33m.\u001b[0m\u001b[0mLabel\u001b[0m\u001b[1;33m(\u001b[0m\u001b[1;33m)\u001b[0m\u001b[1;33m\u001b[0m\u001b[1;33m\u001b[0m\u001b[0m\n",
      "\u001b[1;31mNameError\u001b[0m: name 'Path' is not defined"
     ]
    }
   ],
   "source": [
    "path = Path()\n",
    "learn_inf = load_learner(path/\"export.pkl\")\n",
    "btn_upload = widgets.FileUpload()\n",
    "out_pl = widgets.Output()\n",
    "lbl_pred = widgets.Label()"
   ]
  },
  {
   "cell_type": "code",
   "execution_count": 6,
   "id": "3472e17d",
   "metadata": {},
   "outputs": [],
   "source": [
    "def on_click(change):\n",
    "    img = PILImage.create(btn_upload.data[-1])\n",
    "    out_pl.clear_output()\n",
    "    with out_pl: display(img.to_thumb(224,224))\n",
    "    pred, pred_idx, probs = learn_inf.predict(img)\n",
    "    lbl_pred.value = f'Prediction: {pred}'"
   ]
  },
  {
   "cell_type": "code",
   "execution_count": 7,
   "id": "a824e06f",
   "metadata": {},
   "outputs": [],
   "source": [
    "btn_upload.observe(on_click, names=['data'])"
   ]
  },
  {
   "cell_type": "code",
   "execution_count": 8,
   "id": "1ea43a0f",
   "metadata": {},
   "outputs": [
    {
     "data": {
      "application/vnd.jupyter.widget-view+json": {
       "model_id": "e69a4f2d7dc14b5ea25c479f1fd0fb60",
       "version_major": 2,
       "version_minor": 0
      },
      "text/plain": [
       "VBox(children=(Label(value='Upload your thumbnail:'), FileUpload(value={}, description='Upload'), Output(), La…"
      ]
     },
     "metadata": {},
     "output_type": "display_data"
    }
   ],
   "source": [
    "display(VBox([widgets.Label('Upload your thumbnail:'), btn_upload, out_pl, lbl_pred]))"
   ]
  },
  {
   "cell_type": "code",
   "execution_count": null,
   "id": "0c55c958",
   "metadata": {},
   "outputs": [],
   "source": []
  }
 ],
 "metadata": {
  "kernelspec": {
   "display_name": "Python 3",
   "language": "python",
   "name": "python3"
  },
  "language_info": {
   "codemirror_mode": {
    "name": "ipython",
    "version": 3
   },
   "file_extension": ".py",
   "mimetype": "text/x-python",
   "name": "python",
   "nbconvert_exporter": "python",
   "pygments_lexer": "ipython3",
   "version": "3.9.4"
  }
 },
 "nbformat": 4,
 "nbformat_minor": 5
}
